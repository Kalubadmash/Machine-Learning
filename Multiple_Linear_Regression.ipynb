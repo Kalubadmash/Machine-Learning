{
  "nbformat": 4,
  "nbformat_minor": 0,
  "metadata": {
    "colab": {
      "provenance": []
    },
    "kernelspec": {
      "name": "python3",
      "display_name": "Python 3"
    },
    "language_info": {
      "name": "python"
    }
  },
  "cells": [
    {
      "cell_type": "code",
      "execution_count": 2,
      "metadata": {
        "colab": {
          "base_uri": "https://localhost:8080/"
        },
        "id": "9g7V39A4lstK",
        "outputId": "3a7844de-234a-43dc-ec90-735380b7c737"
      },
      "outputs": [
        {
          "output_type": "stream",
          "name": "stdout",
          "text": [
            "   Unnamed: 0  YearsExperience   Salary\n",
            "0           0              1.2  39344.0\n",
            "1           1              1.4  46206.0\n",
            "2           2              1.6  37732.0\n",
            "3           3              2.1  43526.0\n",
            "4           4              2.3  39892.0\n",
            "                            OLS Regression Results                            \n",
            "==============================================================================\n",
            "Dep. Variable:                 Salary   R-squared:                       0.957\n",
            "Model:                            OLS   Adj. R-squared:                  0.955\n",
            "Method:                 Least Squares   F-statistic:                     622.5\n",
            "Date:                Tue, 03 Sep 2024   Prob (F-statistic):           1.14e-20\n",
            "Time:                        06:38:01   Log-Likelihood:                -301.44\n",
            "No. Observations:                  30   AIC:                             606.9\n",
            "Df Residuals:                      28   BIC:                             609.7\n",
            "Df Model:                           1                                         \n",
            "Covariance Type:            nonrobust                                         \n",
            "===================================================================================\n",
            "                      coef    std err          t      P>|t|      [0.025      0.975]\n",
            "-----------------------------------------------------------------------------------\n",
            "const            2.485e+04   2306.654     10.772      0.000    2.01e+04    2.96e+04\n",
            "YearsExperience  9449.9623    378.755     24.950      0.000    8674.119    1.02e+04\n",
            "==============================================================================\n",
            "Omnibus:                        2.140   Durbin-Watson:                   1.648\n",
            "Prob(Omnibus):                  0.343   Jarque-Bera (JB):                1.569\n",
            "Skew:                           0.363   Prob(JB):                        0.456\n",
            "Kurtosis:                       2.147   Cond. No.                         13.6\n",
            "==============================================================================\n",
            "\n",
            "Notes:\n",
            "[1] Standard Errors assume that the covariance matrix of the errors is correctly specified.\n"
          ]
        }
      ],
      "source": [
        "import statsmodels.api as sm\n",
        "import pandas as pd\n",
        "\n",
        "# Load the Salary dataset (assumes you have downloaded 'Salary_data.csv')\n",
        "salary_data = pd.read_csv('Salary_dataset.csv')\n",
        "\n",
        "# Display the first few rows to understand the structure of the dataset\n",
        "print(salary_data.head())\n",
        "\n",
        "# Handle missing values (e.g., drop rows with NaN values)\n",
        "salary_data.dropna(inplace=True)\n",
        "\n",
        "# Convert relevant columns to numeric types if necessary\n",
        "salary_data['YearsExperience'] = pd.to_numeric(salary_data['YearsExperience'], errors='coerce')\n",
        "salary_data['Salary'] = pd.to_numeric(salary_data['Salary'], errors='coerce')\n",
        "\n",
        "# Define the independent variable (YearsExperience) and dependent variable (Salary)\n",
        "X = salary_data[['YearsExperience']]\n",
        "Y = salary_data['Salary']\n",
        "\n",
        "# Add a constant term to the independent variables (intercept)\n",
        "X = sm.add_constant(X)\n",
        "\n",
        "# Fit the linear regression model\n",
        "model = sm.OLS(Y, X).fit()\n",
        "\n",
        "# Print the summary of the regression model\n",
        "print(model.summary())\n"
      ]
    }
  ]
}